{
 "cells": [
  {
   "cell_type": "code",
   "execution_count": 2,
   "id": "9e0314f7",
   "metadata": {},
   "outputs": [
    {
     "name": "stdout",
     "output_type": "stream",
     "text": [
      "Found 205 matched image-label pairs.\n",
      "Split completed:\n",
      "  Train: 143\n",
      "  Valid: 41\n",
      "  Test : 21\n"
     ]
    }
   ],
   "source": [
    "import os\n",
    "import shutil\n",
    "import random\n",
    "\n",
    "def create_dir(path):\n",
    "    if not os.path.exists(path):\n",
    "        os.makedirs(path)\n",
    "\n",
    "def split_dataset(\n",
    "    images_dir, labels_dir,\n",
    "    output_root,\n",
    "    train_ratio=0.7, valid_ratio=0.2, test_ratio=0.1,\n",
    "    seed=42\n",
    "):\n",
    "    assert abs(train_ratio + valid_ratio + test_ratio - 1.0) < 1e-6, \"Ratios must sum to 1.\"\n",
    "\n",
    "    # Create output folders\n",
    "    for split in ['train', 'valid', 'test']:\n",
    "        for subfolder in ['images', 'labels']:\n",
    "            create_dir(os.path.join(output_root, split, subfolder))\n",
    "\n",
    "    # Match image and label filenames (without extension)\n",
    "    image_files = sorted([f for f in os.listdir(images_dir) if f.lower().endswith(('.jpg', '.png', '.jpeg'))])\n",
    "    label_files = sorted([f for f in os.listdir(labels_dir) if f.lower().endswith('.txt')])\n",
    "\n",
    "    # Ensure corresponding labels exist\n",
    "    base_names = [os.path.splitext(f)[0] for f in image_files]\n",
    "    paired_files = [\n",
    "        (img, f\"{os.path.splitext(img)[0]}.txt\")\n",
    "        for img in image_files if f\"{os.path.splitext(img)[0]}.txt\" in label_files\n",
    "    ]\n",
    "\n",
    "    print(f\"Found {len(paired_files)} matched image-label pairs.\")\n",
    "\n",
    "    # Shuffle\n",
    "    random.seed(seed)\n",
    "    random.shuffle(paired_files)\n",
    "\n",
    "    # Split\n",
    "    total = len(paired_files)\n",
    "    train_end = int(train_ratio * total)\n",
    "    valid_end = train_end + int(valid_ratio * total)\n",
    "\n",
    "    train_files = paired_files[:train_end]\n",
    "    valid_files = paired_files[train_end:valid_end]\n",
    "    test_files = paired_files[valid_end:]\n",
    "\n",
    "    # Helper to copy files\n",
    "    def copy_files(file_list, split_name):\n",
    "        for img_file, lbl_file in file_list:\n",
    "            shutil.copy2(os.path.join(images_dir, img_file), os.path.join(output_root, split_name, 'images', img_file))\n",
    "            shutil.copy2(os.path.join(labels_dir, lbl_file), os.path.join(output_root, split_name, 'labels', lbl_file))\n",
    "\n",
    "    # Copy files\n",
    "    copy_files(train_files, 'train')\n",
    "    copy_files(valid_files, 'valid')\n",
    "    copy_files(test_files, 'test')\n",
    "\n",
    "    print(\"Split completed:\")\n",
    "    print(f\"  Train: {len(train_files)}\")\n",
    "    print(f\"  Valid: {len(valid_files)}\")\n",
    "    print(f\"  Test : {len(test_files)}\")\n",
    "\n",
    "# ==== Example Usage ====\n",
    "split_dataset(\n",
    "    images_dir='C:/Users/admin/Documents/GitHub/Pill_Identification/Pill_Jpeg_Processed',\n",
    "    labels_dir='C:/Users/admin/Documents/GitHub/Pill_Identification/Pill_YOLO_Labels',\n",
    "    output_root='C:/Users/admin/Documents/GitHub/Pill_Identification',\n",
    "    train_ratio=0.7,\n",
    "    valid_ratio=0.2,\n",
    "    test_ratio=0.1\n",
    ")\n"
   ]
  }
 ],
 "metadata": {
  "kernelspec": {
   "display_name": "base",
   "language": "python",
   "name": "python3"
  },
  "language_info": {
   "codemirror_mode": {
    "name": "ipython",
    "version": 3
   },
   "file_extension": ".py",
   "mimetype": "text/x-python",
   "name": "python",
   "nbconvert_exporter": "python",
   "pygments_lexer": "ipython3",
   "version": "3.12.4"
  }
 },
 "nbformat": 4,
 "nbformat_minor": 5
}
