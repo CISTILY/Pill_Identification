{
 "cells": [
  {
   "cell_type": "markdown",
   "id": "5f49e878",
   "metadata": {},
   "source": [
    "# Data split for YOLO"
   ]
  },
  {
   "cell_type": "code",
   "execution_count": 1,
   "id": "9e0314f7",
   "metadata": {},
   "outputs": [
    {
     "name": "stdout",
     "output_type": "stream",
     "text": [
      "Found 1296 matched image-label pairs.\n",
      "Split completed:\n",
      "  Train: 907\n",
      "  Valid: 259\n",
      "  Test : 130\n"
     ]
    }
   ],
   "source": [
    "import os\n",
    "import shutil\n",
    "import random\n",
    "\n",
    "def create_dir(path):\n",
    "    if not os.path.exists(path):\n",
    "        os.makedirs(path)\n",
    "\n",
    "def split_dataset(\n",
    "    images_dir, labels_dir,\n",
    "    output_root,\n",
    "    train_ratio=0.7, valid_ratio=0.2, test_ratio=0.1,\n",
    "    seed=42\n",
    "):\n",
    "    assert abs(train_ratio + valid_ratio + test_ratio - 1.0) < 1e-6, \"Ratios must sum to 1.\"\n",
    "\n",
    "    # Create output folders\n",
    "    for split in ['train', 'valid', 'test']:\n",
    "        for subfolder in ['images', 'labels']:\n",
    "            create_dir(os.path.join(output_root, split, subfolder))\n",
    "\n",
    "    # Match image and label filenames (without extension)\n",
    "    image_files = sorted([f for f in os.listdir(images_dir) if f.lower().endswith(('.jpg', '.png', '.jpeg'))])\n",
    "    label_files = sorted([f for f in os.listdir(labels_dir) if f.lower().endswith('.txt')])\n",
    "\n",
    "    # Ensure corresponding labels exist\n",
    "    base_names = [os.path.splitext(f)[0] for f in image_files]\n",
    "    paired_files = [\n",
    "        (img, f\"{os.path.splitext(img)[0]}.txt\")\n",
    "        for img in image_files if f\"{os.path.splitext(img)[0]}.txt\" in label_files\n",
    "    ]\n",
    "\n",
    "    print(f\"Found {len(paired_files)} matched image-label pairs.\")\n",
    "\n",
    "    # Shuffle\n",
    "    random.seed(seed)\n",
    "    random.shuffle(paired_files)\n",
    "\n",
    "    # Split\n",
    "    total = len(paired_files)\n",
    "    train_end = int(train_ratio * total)\n",
    "    valid_end = train_end + int(valid_ratio * total)\n",
    "\n",
    "    train_files = paired_files[:train_end]\n",
    "    valid_files = paired_files[train_end:valid_end]\n",
    "    test_files = paired_files[valid_end:]\n",
    "\n",
    "    # Helper to copy files\n",
    "    def copy_files(file_list, split_name):\n",
    "        for img_file, lbl_file in file_list:\n",
    "            shutil.copy2(os.path.join(images_dir, img_file), os.path.join(output_root, split_name, 'images', img_file))\n",
    "            shutil.copy2(os.path.join(labels_dir, lbl_file), os.path.join(output_root, split_name, 'labels', lbl_file))\n",
    "\n",
    "    # Copy files\n",
    "    copy_files(train_files, 'train')\n",
    "    copy_files(valid_files, 'valid')\n",
    "    copy_files(test_files, 'test')\n",
    "\n",
    "    print(\"Split completed:\")\n",
    "    print(f\"  Train: {len(train_files)}\")\n",
    "    print(f\"  Valid: {len(valid_files)}\")\n",
    "    print(f\"  Test : {len(test_files)}\")\n",
    "\n",
    "# ==== Example Usage ====\n",
    "split_dataset(\n",
    "    images_dir='D:/Pill_Identification/dataset/For_model/Pill_jpg_2025_Resized',\n",
    "    labels_dir='D:/Pill_Identification/model/YOLOv8/Pill_YOLO_Labels',\n",
    "    output_root='D:/Pill_Identification/model/YOLOv8',\n",
    "    train_ratio=0.7,\n",
    "    valid_ratio=0.2,\n",
    "    test_ratio=0.1\n",
    ")\n"
   ]
  },
  {
   "cell_type": "markdown",
   "id": "d236bf0c",
   "metadata": {},
   "source": [
    "# Data split for retina"
   ]
  },
  {
   "cell_type": "code",
   "execution_count": 2,
   "id": "d19f2fe4",
   "metadata": {},
   "outputs": [
    {
     "name": "stdout",
     "output_type": "stream",
     "text": [
      "✅ Done: labels and images split into train/test folders.\n"
     ]
    }
   ],
   "source": [
    "import pandas as pd\n",
    "import os\n",
    "import shutil\n",
    "from sklearn.model_selection import train_test_split\n",
    "\n",
    "# Paths\n",
    "csv_path = \"D:/Pill_Identification/RetinaNet/pill_bounding_boxes.csv\"\n",
    "images_root = \"D:/Pill_Identification/Pill_Jpeg_Processed\"\n",
    "output_base = \"D:/Pill_Identification/RetinaNet\"\n",
    "\n",
    "# Output structure\n",
    "train_img_dir = os.path.join(output_base, \"train\", \"images\")\n",
    "test_img_dir = os.path.join(output_base, \"test\", \"images\")\n",
    "train_label_csv = os.path.join(output_base, \"train\", \"labels.csv\")\n",
    "test_label_csv = os.path.join(output_base, \"test\", \"labels.csv\")\n",
    "\n",
    "# Create directories\n",
    "for path in [train_img_dir, test_img_dir]:\n",
    "    os.makedirs(path, exist_ok=True)\n",
    "\n",
    "# Load full dataset\n",
    "df = pd.read_csv(csv_path)\n",
    "\n",
    "# Split based on unique image IDs\n",
    "unique_imgs = df['image_id'].unique()\n",
    "train_imgs, test_imgs = train_test_split(unique_imgs, test_size=0.2, random_state=42, shuffle=True)\n",
    "\n",
    "# Create train/test label DataFrames\n",
    "train_df = df[df['image_id'].isin(train_imgs)]\n",
    "test_df = df[df['image_id'].isin(test_imgs)]\n",
    "\n",
    "# Save label CSVs\n",
    "train_df.to_csv(train_label_csv, index=False)\n",
    "test_df.to_csv(test_label_csv, index=False)\n",
    "\n",
    "# Function to copy images\n",
    "def copy_images(img_list, target_dir):\n",
    "    for img in img_list:\n",
    "        src_path = os.path.join(images_root, img + \".jpg\")\n",
    "        dst_path = os.path.join(target_dir, img + \".jpg\")\n",
    "        if os.path.exists(src_path):\n",
    "            shutil.copy2(src_path, dst_path)\n",
    "        else:\n",
    "            print(f\"⚠️ Missing image: {src_path}\")\n",
    "\n",
    "# Copy corresponding images\n",
    "copy_images(train_imgs, train_img_dir)\n",
    "copy_images(test_imgs, test_img_dir)\n",
    "\n",
    "print(\"✅ Done: labels and images split into train/test folders.\")\n"
   ]
  }
 ],
 "metadata": {
  "kernelspec": {
   "display_name": "base",
   "language": "python",
   "name": "python3"
  },
  "language_info": {
   "codemirror_mode": {
    "name": "ipython",
    "version": 3
   },
   "file_extension": ".py",
   "mimetype": "text/x-python",
   "name": "python",
   "nbconvert_exporter": "python",
   "pygments_lexer": "ipython3",
   "version": "3.12.3"
  }
 },
 "nbformat": 4,
 "nbformat_minor": 5
}
