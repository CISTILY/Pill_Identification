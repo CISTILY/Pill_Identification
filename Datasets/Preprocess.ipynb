{
 "cells": [
  {
   "cell_type": "markdown",
   "id": "306d1f4a",
   "metadata": {},
   "source": [
    "## Convert HEIC to JPG"
   ]
  },
  {
   "cell_type": "code",
   "execution_count": null,
   "id": "e145d377",
   "metadata": {},
   "outputs": [
    {
     "ename": "FileNotFoundError",
     "evalue": "[Errno 2] No such file or directory: 'HEIC_file.HEIC'",
     "output_type": "error",
     "traceback": [
      "\u001b[1;31m---------------------------------------------------------------------------\u001b[0m",
      "\u001b[1;31mFileNotFoundError\u001b[0m                         Traceback (most recent call last)",
      "Cell \u001b[1;32mIn[1], line 4\u001b[0m\n\u001b[0;32m      1\u001b[0m \u001b[38;5;28;01mfrom\u001b[39;00m \u001b[38;5;21;01mPIL\u001b[39;00m \u001b[38;5;28;01mimport\u001b[39;00m Image\n\u001b[0;32m      2\u001b[0m \u001b[38;5;28;01mimport\u001b[39;00m \u001b[38;5;21;01mpillow_heif\u001b[39;00m\n\u001b[1;32m----> 4\u001b[0m heif_file \u001b[38;5;241m=\u001b[39m pillow_heif\u001b[38;5;241m.\u001b[39mread_heif(\u001b[38;5;124m\"\u001b[39m\u001b[38;5;124mHEIC_file.HEIC\u001b[39m\u001b[38;5;124m\"\u001b[39m)\n\u001b[0;32m      5\u001b[0m image \u001b[38;5;241m=\u001b[39m Image\u001b[38;5;241m.\u001b[39mfrombytes(\n\u001b[0;32m      6\u001b[0m     heif_file\u001b[38;5;241m.\u001b[39mmode,\n\u001b[0;32m      7\u001b[0m     heif_file\u001b[38;5;241m.\u001b[39msize,\n\u001b[0;32m      8\u001b[0m     heif_file\u001b[38;5;241m.\u001b[39mdata,\n\u001b[0;32m      9\u001b[0m     \u001b[38;5;124m\"\u001b[39m\u001b[38;5;124mraw\u001b[39m\u001b[38;5;124m\"\u001b[39m,\n\u001b[0;32m     10\u001b[0m )\n\u001b[0;32m     12\u001b[0m image\u001b[38;5;241m.\u001b[39msave(\u001b[38;5;124m\"\u001b[39m\u001b[38;5;124m./picture_name.png\u001b[39m\u001b[38;5;124m\"\u001b[39m, \u001b[38;5;28mformat\u001b[39m(\u001b[38;5;124m\"\u001b[39m\u001b[38;5;124mpng\u001b[39m\u001b[38;5;124m\"\u001b[39m))\n",
      "File \u001b[1;32mc:\\Users\\admin\\anaconda3\\Lib\\site-packages\\pillow_heif\\heif.py:574\u001b[0m, in \u001b[0;36mread_heif\u001b[1;34m(fp, convert_hdr_to_8bit, bgr_mode, **kwargs)\u001b[0m\n\u001b[0;32m    552\u001b[0m \u001b[38;5;28;01mdef\u001b[39;00m \u001b[38;5;21mread_heif\u001b[39m(fp, convert_hdr_to_8bit\u001b[38;5;241m=\u001b[39m\u001b[38;5;28;01mTrue\u001b[39;00m, bgr_mode\u001b[38;5;241m=\u001b[39m\u001b[38;5;28;01mFalse\u001b[39;00m, \u001b[38;5;241m*\u001b[39m\u001b[38;5;241m*\u001b[39mkwargs) \u001b[38;5;241m-\u001b[39m\u001b[38;5;241m>\u001b[39m HeifFile:\n\u001b[0;32m    553\u001b[0m \u001b[38;5;250m    \u001b[39m\u001b[38;5;124;03m\"\"\"Opens the given HEIF image file and decodes all images.\u001b[39;00m\n\u001b[0;32m    554\u001b[0m \n\u001b[0;32m    555\u001b[0m \u001b[38;5;124;03m    .. note:: In most cases it is better to call :py:meth:`~pillow_heif.open_heif`, and\u001b[39;00m\n\u001b[1;32m   (...)\u001b[0m\n\u001b[0;32m    572\u001b[0m \u001b[38;5;124;03m    :exception OSError: out of memory.\u001b[39;00m\n\u001b[0;32m    573\u001b[0m \u001b[38;5;124;03m    \"\"\"\u001b[39;00m\n\u001b[1;32m--> 574\u001b[0m     ret \u001b[38;5;241m=\u001b[39m HeifFile(fp, convert_hdr_to_8bit, bgr_mode, reload_size\u001b[38;5;241m=\u001b[39m\u001b[38;5;28;01mTrue\u001b[39;00m, \u001b[38;5;241m*\u001b[39m\u001b[38;5;241m*\u001b[39mkwargs)\n\u001b[0;32m    575\u001b[0m     \u001b[38;5;28;01mfor\u001b[39;00m img \u001b[38;5;129;01min\u001b[39;00m ret:\n\u001b[0;32m    576\u001b[0m         img\u001b[38;5;241m.\u001b[39mload()\n",
      "File \u001b[1;32mc:\\Users\\admin\\anaconda3\\Lib\\site-packages\\pillow_heif\\heif.py:254\u001b[0m, in \u001b[0;36mHeifFile.__init__\u001b[1;34m(self, fp, convert_hdr_to_8bit, bgr_mode, **kwargs)\u001b[0m\n\u001b[0;32m    252\u001b[0m     mimetype \u001b[38;5;241m=\u001b[39m \u001b[38;5;124m\"\u001b[39m\u001b[38;5;124m\"\u001b[39m\n\u001b[0;32m    253\u001b[0m \u001b[38;5;28;01melse\u001b[39;00m:\n\u001b[1;32m--> 254\u001b[0m     fp_bytes \u001b[38;5;241m=\u001b[39m _get_bytes(fp)\n\u001b[0;32m    255\u001b[0m     mimetype \u001b[38;5;241m=\u001b[39m get_file_mimetype(fp_bytes)\n\u001b[0;32m    256\u001b[0m     \u001b[38;5;28;01mif\u001b[39;00m mimetype\u001b[38;5;241m.\u001b[39mfind(\u001b[38;5;124m\"\u001b[39m\u001b[38;5;124mavif\u001b[39m\u001b[38;5;124m\"\u001b[39m) \u001b[38;5;241m!=\u001b[39m \u001b[38;5;241m-\u001b[39m\u001b[38;5;241m1\u001b[39m:\n",
      "File \u001b[1;32mc:\\Users\\admin\\anaconda3\\Lib\\site-packages\\pillow_heif\\misc.py:208\u001b[0m, in \u001b[0;36m_get_bytes\u001b[1;34m(fp, length)\u001b[0m\n\u001b[0;32m    206\u001b[0m \u001b[38;5;28;01mdef\u001b[39;00m \u001b[38;5;21m_get_bytes\u001b[39m(fp, length\u001b[38;5;241m=\u001b[39m\u001b[38;5;28;01mNone\u001b[39;00m) \u001b[38;5;241m-\u001b[39m\u001b[38;5;241m>\u001b[39m \u001b[38;5;28mbytes\u001b[39m:\n\u001b[0;32m    207\u001b[0m     \u001b[38;5;28;01mif\u001b[39;00m \u001b[38;5;28misinstance\u001b[39m(fp, (\u001b[38;5;28mstr\u001b[39m, Path)):\n\u001b[1;32m--> 208\u001b[0m         \u001b[38;5;28;01mwith\u001b[39;00m builtins\u001b[38;5;241m.\u001b[39mopen(fp, \u001b[38;5;124m\"\u001b[39m\u001b[38;5;124mrb\u001b[39m\u001b[38;5;124m\"\u001b[39m) \u001b[38;5;28;01mas\u001b[39;00m file:\n\u001b[0;32m    209\u001b[0m             \u001b[38;5;28;01mreturn\u001b[39;00m file\u001b[38;5;241m.\u001b[39mread(length \u001b[38;5;129;01mor\u001b[39;00m \u001b[38;5;241m-\u001b[39m\u001b[38;5;241m1\u001b[39m)\n\u001b[0;32m    210\u001b[0m     \u001b[38;5;28;01mif\u001b[39;00m \u001b[38;5;28mhasattr\u001b[39m(fp, \u001b[38;5;124m\"\u001b[39m\u001b[38;5;124mread\u001b[39m\u001b[38;5;124m\"\u001b[39m):\n",
      "\u001b[1;31mFileNotFoundError\u001b[0m: [Errno 2] No such file or directory: 'HEIC_file.HEIC'"
     ]
    }
   ],
   "source": [
    "from PIL import Image\n",
    "import pillow_heif\n",
    "\n",
    "heif_file = pillow_heif.read_heif(\"C:\\\\Users\\\\admin\\\\Documents\\\\GitHub\\\\Pill_Identification\\\\Datasets\\\\HEIC\\\\IMG_2944.HEIC\")\n",
    "image = Image.frombytes(\n",
    "    heif_file.mode,\n",
    "    heif_file.size,\n",
    "    heif_file.data,\n",
    "    \"raw\",\n",
    ")\n",
    "\n",
    "image.save(\"C:\\\\Users\\\\admin\\\\Documents\\\\GitHub\\\\Pill_Identification\\\\Datasets\\\\PNG\\\\IMG_2944.png\", format(\"png\"))"
   ]
  }
 ],
 "metadata": {
  "kernelspec": {
   "display_name": "base",
   "language": "python",
   "name": "python3"
  },
  "language_info": {
   "codemirror_mode": {
    "name": "ipython",
    "version": 3
   },
   "file_extension": ".py",
   "mimetype": "text/x-python",
   "name": "python",
   "nbconvert_exporter": "python",
   "pygments_lexer": "ipython3",
   "version": "3.12.4"
  }
 },
 "nbformat": 4,
 "nbformat_minor": 5
}
