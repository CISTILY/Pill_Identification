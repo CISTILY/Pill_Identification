{
 "cells": [
  {
   "cell_type": "code",
   "execution_count": 37,
   "id": "ca6e27e0",
   "metadata": {},
   "outputs": [
    {
     "name": "stderr",
     "output_type": "stream",
     "text": [
      "C:\\Users\\admin\\AppData\\Local\\Temp\\ipykernel_1612\\1916505189.py:10: FutureWarning: You are using `torch.load` with `weights_only=False` (the current default value), which uses the default pickle module implicitly. It is possible to construct malicious pickle data which will execute arbitrary code during unpickling (See https://github.com/pytorch/pytorch/blob/main/SECURITY.md#untrusted-models for more details). In a future release, the default value for `weights_only` will be flipped to `True`. This limits the functions that could be executed during unpickling. Arbitrary objects will no longer be allowed to be loaded via this mode unless they are explicitly allowlisted by the user via `torch.serialization.add_safe_globals`. We recommend you start setting `weights_only=True` for any use case where you don't have full control of the loaded file. Please open an issue on GitHub for any issues related to this experimental feature.\n",
      "  state_dict = torch.load(model_path, map_location=torch.device('cpu'))[\"params_ema\"]\n"
     ]
    }
   ],
   "source": [
    "import torch\n",
    "import numpy as np\n",
    "from PIL import Image\n",
    "import sys\n",
    "sys.path.append(\"C:/Users/admin/Documents/GitHub/Pill_Identification/Real-ESRGAN\")\n",
    "from basicsr.archs.rrdbnet_arch import RRDBNet\n",
    "from realesrgan import RealESRGANer\n",
    "\n",
    "model_path = \"C:/Users/admin/Documents/GitHub/Pill_Identification/RealESRGAN_x4plus.pth\"\n",
    "state_dict = torch.load(model_path, map_location=torch.device('cpu'))[\"params_ema\"]\n",
    "\n",
    "model = RRDBNet(num_in_ch=3, num_out_ch=3, num_feat=64, num_block=23, num_grow_ch=32, scale=4)\n",
    "model.load_state_dict(state_dict, strict=True)\n",
    "\n",
    "upsampler = RealESRGANer(\n",
    "    scale=4,\n",
    "    model_path=model_path,\n",
    "    model=model,\n",
    "    tile=0,\n",
    "    pre_pad=0,\n",
    "    half=False,\n",
    ")\n",
    "\n",
    "image = Image.open(\"C:/Users/admin/Documents/GitHub/Pill_Identification/Pill_Jpeg_2025/0/MS/Mau/0_MS_01.jpg\").convert(\"RGB\").convert(\"RGB\")\n",
    "image = np.array(image)\n",
    "\n",
    "output, _ = upsampler.enhance(image, outscale=3)\n",
    "\n",
    "output_image = Image.fromarray(output)\n",
    "output_image.save(\"C:/Users/admin/Documents/GitHub/Pill_Identification/0_MS_01_upscaled.jpg\")"
   ]
  }
 ],
 "metadata": {
  "kernelspec": {
   "display_name": "base",
   "language": "python",
   "name": "python3"
  },
  "language_info": {
   "codemirror_mode": {
    "name": "ipython",
    "version": 3
   },
   "file_extension": ".py",
   "mimetype": "text/x-python",
   "name": "python",
   "nbconvert_exporter": "python",
   "pygments_lexer": "ipython3",
   "version": "3.12.4"
  }
 },
 "nbformat": 4,
 "nbformat_minor": 5
}
